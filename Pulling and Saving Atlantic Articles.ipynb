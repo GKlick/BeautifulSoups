{
 "cells": [
  {
   "cell_type": "code",
   "execution_count": null,
   "metadata": {},
   "outputs": [],
   "source": [
    "import requests\n",
    "from bs4 import BeautifulSoup\n",
    "\n",
    "def atlantic_soup(url):\n",
    "    url = input(\"please provide a full Atlentic url \")\n",
    "    store = requests.get(url)\n",
    "    soup = BeautifulSoup(store.text, 'html.parser')\n",
    "    article = soup.find(class_ = 't-article').text\n",
    "\n",
    "if __name__==\"__main__\":\n",
    "    print(\"This program will let you read Atlentic articles as .txt files\")    \n",
    "    atlantic_soup(url)\n",
    "    file_name = input(\"please provide the article name \" )\n",
    "    with open(file_name, 'w') as file_open:\n",
    "        file_open.write(article)"
   ]
  }
 ],
 "metadata": {
  "kernelspec": {
   "display_name": "Python 3",
   "language": "python",
   "name": "python3"
  },
  "language_info": {
   "codemirror_mode": {
    "name": "ipython",
    "version": 3
   },
   "file_extension": ".py",
   "mimetype": "text/x-python",
   "name": "python",
   "nbconvert_exporter": "python",
   "pygments_lexer": "ipython3",
   "version": "3.6.5"
  }
 },
 "nbformat": 4,
 "nbformat_minor": 2
}
